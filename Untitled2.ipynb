{
 "cells": [
  {
   "cell_type": "code",
   "execution_count": 1,
   "metadata": {},
   "outputs": [],
   "source": [
    "######### Import your libraries #######\n",
    "import dash\n",
    "import dash_core_components as dcc\n",
    "import dash_html_components as html\n",
    "import pandas as pd\n",
    "import plotly as py\n",
    "import plotly.graph_objs as go\n",
    "import numpy as np\n",
    "import plotly.figure_factory as ff\n",
    "import base64\n",
    "from plotly.offline import download_plotlyjs, init_notebook_mode, plot, iplot\n",
    "from plotly.graph_objs import *"
   ]
  },
  {
   "cell_type": "code",
   "execution_count": 2,
   "metadata": {},
   "outputs": [],
   "source": [
    "df = pd.read_pickle('virginia_totals.pkl')\n",
    "df2 = pd.read_csv('va-fips.csv')\n",
    "options_list=list(df['jurisdiction'].value_counts().sort_index().index)"
   ]
  },
  {
   "cell_type": "code",
   "execution_count": 3,
   "metadata": {},
   "outputs": [],
   "source": [
    "df2['fips']=df2['fips_code'].astype(str)"
   ]
  },
  {
   "cell_type": "code",
   "execution_count": 4,
   "metadata": {},
   "outputs": [],
   "source": [
    "df2['upper_county'] = df2['locality'].str.upper()"
   ]
  },
  {
   "cell_type": "code",
   "execution_count": 10,
   "metadata": {},
   "outputs": [],
   "source": [
    "df2['upper_county'] = df2['locality'].str.upper() + ' COUNTY'"
   ]
  },
  {
   "cell_type": "code",
   "execution_count": 11,
   "metadata": {},
   "outputs": [
    {
     "data": {
      "text/html": [
       "<div>\n",
       "<style scoped>\n",
       "    .dataframe tbody tr th:only-of-type {\n",
       "        vertical-align: middle;\n",
       "    }\n",
       "\n",
       "    .dataframe tbody tr th {\n",
       "        vertical-align: top;\n",
       "    }\n",
       "\n",
       "    .dataframe thead th {\n",
       "        text-align: right;\n",
       "    }\n",
       "</style>\n",
       "<table border=\"1\" class=\"dataframe\">\n",
       "  <thead>\n",
       "    <tr style=\"text-align: right;\">\n",
       "      <th></th>\n",
       "      <th>fips_code</th>\n",
       "      <th>locality</th>\n",
       "      <th>fips</th>\n",
       "      <th>upper_county</th>\n",
       "    </tr>\n",
       "  </thead>\n",
       "  <tbody>\n",
       "    <tr>\n",
       "      <th>0</th>\n",
       "      <td>51001</td>\n",
       "      <td>Accomack</td>\n",
       "      <td>51001</td>\n",
       "      <td>ACCOMACK COUNTY</td>\n",
       "    </tr>\n",
       "    <tr>\n",
       "      <th>1</th>\n",
       "      <td>51003</td>\n",
       "      <td>Albemarle</td>\n",
       "      <td>51003</td>\n",
       "      <td>ALBEMARLE COUNTY</td>\n",
       "    </tr>\n",
       "    <tr>\n",
       "      <th>2</th>\n",
       "      <td>51021</td>\n",
       "      <td>Bland</td>\n",
       "      <td>51021</td>\n",
       "      <td>BLAND COUNTY</td>\n",
       "    </tr>\n",
       "    <tr>\n",
       "      <th>3</th>\n",
       "      <td>51570</td>\n",
       "      <td>Colonial Heights</td>\n",
       "      <td>51570</td>\n",
       "      <td>COLONIAL HEIGHTS COUNTY</td>\n",
       "    </tr>\n",
       "    <tr>\n",
       "      <th>4</th>\n",
       "      <td>51145</td>\n",
       "      <td>Powhatan</td>\n",
       "      <td>51145</td>\n",
       "      <td>POWHATAN COUNTY</td>\n",
       "    </tr>\n",
       "  </tbody>\n",
       "</table>\n",
       "</div>"
      ],
      "text/plain": [
       "   fips_code          locality   fips             upper_county\n",
       "0      51001          Accomack  51001          ACCOMACK COUNTY\n",
       "1      51003         Albemarle  51003         ALBEMARLE COUNTY\n",
       "2      51021             Bland  51021             BLAND COUNTY\n",
       "3      51570  Colonial Heights  51570  COLONIAL HEIGHTS COUNTY\n",
       "4      51145          Powhatan  51145          POWHATAN COUNTY"
      ]
     },
     "execution_count": 11,
     "metadata": {},
     "output_type": "execute_result"
    }
   ],
   "source": [
    "df2.head()"
   ]
  },
  {
   "cell_type": "code",
   "execution_count": null,
   "metadata": {},
   "outputs": [],
   "source": []
  }
 ],
 "metadata": {
  "kernelspec": {
   "display_name": "Python 3",
   "language": "python",
   "name": "python3"
  },
  "language_info": {
   "codemirror_mode": {
    "name": "ipython",
    "version": 3
   },
   "file_extension": ".py",
   "mimetype": "text/x-python",
   "name": "python",
   "nbconvert_exporter": "python",
   "pygments_lexer": "ipython3",
   "version": "3.7.3"
  }
 },
 "nbformat": 4,
 "nbformat_minor": 2
}
